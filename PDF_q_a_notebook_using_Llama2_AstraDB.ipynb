{
  "nbformat": 4,
  "nbformat_minor": 0,
  "metadata": {
    "colab": {
      "provenance": [],
      "include_colab_link": true
    },
    "kernelspec": {
      "name": "python3",
      "display_name": "Python 3"
    },
    "language_info": {
      "name": "python"
    }
  },
  "cells": [
    {
      "cell_type": "markdown",
      "metadata": {
        "id": "view-in-github",
        "colab_type": "text"
      },
      "source": [
        "<a href=\"https://colab.research.google.com/github/arijitaurko/PDF-QA-ChatBot_Llama2-Llamaindex/blob/main/PDF_q_a_notebook_using_Llama2_AstraDB.ipynb\" target=\"_parent\"><img src=\"https://colab.research.google.com/assets/colab-badge.svg\" alt=\"Open In Colab\"/></a>"
      ]
    },
    {
      "cell_type": "markdown",
      "source": [
        "## Chat with your PDF files using LlamaIndex, Astra DB (Apache Cassandra), and Gradient's open-source models, including LLama2 and Streamlit, all designed for seamless interaction with PDF files."
      ],
      "metadata": {
        "id": "sbzI6KKiDv78"
      }
    },
    {
      "cell_type": "markdown",
      "source": [
        "# Installation"
      ],
      "metadata": {
        "id": "XaiKzsSw4FBM"
      }
    },
    {
      "cell_type": "code",
      "source": [
        "!pip install -q cassandra-driver\n",
        "!pip install -q cassio>=0.1.1\n",
        "!pip install -q gradientai --upgrade\n",
        "!pip install -q llama-index-core\n",
        "!pip install -q pypdf\n",
        "!pip install -q tiktoken==0.4.0"
      ],
      "metadata": {
        "id": "wak76xYYUdXE",
        "colab": {
          "base_uri": "https://localhost:8080/"
        },
        "outputId": "143f382a-a478-41ba-b179-647b2c811752"
      },
      "execution_count": null,
      "outputs": [
        {
          "output_type": "stream",
          "name": "stdout",
          "text": [
            "\u001b[2K     \u001b[90m━━━━━━━━━━━━━━━━━━━━━━━━━━━━━━━━━━━━━━━━\u001b[0m \u001b[32m18.8/18.8 MB\u001b[0m \u001b[31m43.1 MB/s\u001b[0m eta \u001b[36m0:00:00\u001b[0m\n",
            "\u001b[2K     \u001b[90m━━━━━━━━━━━━━━━━━━━━━━━━━━━━━━━━━━━━━━━━\u001b[0m \u001b[32m296.5/296.5 kB\u001b[0m \u001b[31m6.6 MB/s\u001b[0m eta \u001b[36m0:00:00\u001b[0m\n",
            "\u001b[2K     \u001b[90m━━━━━━━━━━━━━━━━━━━━━━━━━━━━━━━━━━━━━━━━\u001b[0m \u001b[32m137.6/137.6 kB\u001b[0m \u001b[31m17.0 MB/s\u001b[0m eta \u001b[36m0:00:00\u001b[0m\n",
            "\u001b[2K     \u001b[90m━━━━━━━━━━━━━━━━━━━━━━━━━━━━━━━━━━━━━━━━\u001b[0m \u001b[32m3.1/3.1 MB\u001b[0m \u001b[31m52.5 MB/s\u001b[0m eta \u001b[36m0:00:00\u001b[0m\n",
            "\u001b[2K     \u001b[90m━━━━━━━━━━━━━━━━━━━━━━━━━━━━━━━━━━━━━━━━\u001b[0m \u001b[32m15.4/15.4 MB\u001b[0m \u001b[31m72.6 MB/s\u001b[0m eta \u001b[36m0:00:00\u001b[0m\n",
            "\u001b[2K     \u001b[90m━━━━━━━━━━━━━━━━━━━━━━━━━━━━━━━━━━━━━━━━\u001b[0m \u001b[32m75.6/75.6 kB\u001b[0m \u001b[31m9.6 MB/s\u001b[0m eta \u001b[36m0:00:00\u001b[0m\n",
            "\u001b[2K     \u001b[90m━━━━━━━━━━━━━━━━━━━━━━━━━━━━━━━━━━━━━━━━\u001b[0m \u001b[32m108.0/108.0 kB\u001b[0m \u001b[31m13.8 MB/s\u001b[0m eta \u001b[36m0:00:00\u001b[0m\n",
            "\u001b[2K     \u001b[90m━━━━━━━━━━━━━━━━━━━━━━━━━━━━━━━━━━━━━━━━\u001b[0m \u001b[32m257.5/257.5 kB\u001b[0m \u001b[31m29.0 MB/s\u001b[0m eta \u001b[36m0:00:00\u001b[0m\n",
            "\u001b[2K     \u001b[90m━━━━━━━━━━━━━━━━━━━━━━━━━━━━━━━━━━━━━━━━\u001b[0m \u001b[32m1.8/1.8 MB\u001b[0m \u001b[31m75.3 MB/s\u001b[0m eta \u001b[36m0:00:00\u001b[0m\n",
            "\u001b[2K     \u001b[90m━━━━━━━━━━━━━━━━━━━━━━━━━━━━━━━━━━━━━━━━\u001b[0m \u001b[32m77.8/77.8 kB\u001b[0m \u001b[31m10.4 MB/s\u001b[0m eta \u001b[36m0:00:00\u001b[0m\n",
            "\u001b[2K     \u001b[90m━━━━━━━━━━━━━━━━━━━━━━━━━━━━━━━━━━━━━━━━\u001b[0m \u001b[32m58.3/58.3 kB\u001b[0m \u001b[31m7.5 MB/s\u001b[0m eta \u001b[36m0:00:00\u001b[0m\n",
            "\u001b[2K     \u001b[90m━━━━━━━━━━━━━━━━━━━━━━━━━━━━━━━━━━━━━━━━\u001b[0m \u001b[32m49.4/49.4 kB\u001b[0m \u001b[31m6.6 MB/s\u001b[0m eta \u001b[36m0:00:00\u001b[0m\n",
            "\u001b[2K     \u001b[90m━━━━━━━━━━━━━━━━━━━━━━━━━━━━━━━━━━━━━━━━\u001b[0m \u001b[32m286.1/286.1 kB\u001b[0m \u001b[31m4.9 MB/s\u001b[0m eta \u001b[36m0:00:00\u001b[0m\n",
            "\u001b[2K     \u001b[90m━━━━━━━━━━━━━━━━━━━━━━━━━━━━━━━━━━━━━━━━\u001b[0m \u001b[32m1.7/1.7 MB\u001b[0m \u001b[31m29.4 MB/s\u001b[0m eta \u001b[36m0:00:00\u001b[0m\n",
            "\u001b[?25h"
          ]
        }
      ]
    },
    {
      "cell_type": "code",
      "source": [
        "!pip install -q llama-index-llms-gradient\n",
        "!pip install -q llama-index-embeddings-gradient\n",
        "!pip install -q llama-index-vector-stores-cassandra\n",
        "!pip install -q llama-index-readers-file"
      ],
      "metadata": {
        "id": "CVOsZNW6fTtr",
        "colab": {
          "base_uri": "https://localhost:8080/"
        },
        "outputId": "94557c82-ec48-4d71-dd64-d0ee642df6f8"
      },
      "execution_count": null,
      "outputs": [
        {
          "output_type": "stream",
          "name": "stdout",
          "text": [
            "\u001b[2K     \u001b[90m━━━━━━━━━━━━━━━━━━━━━━━━━━━━━━━━━━━━━━━━\u001b[0m \u001b[32m4.4/4.4 MB\u001b[0m \u001b[31m38.2 MB/s\u001b[0m eta \u001b[36m0:00:00\u001b[0m\n",
            "\u001b[2K     \u001b[90m━━━━━━━━━━━━━━━━━━━━━━━━━━━━━━━━━━━━━━━━\u001b[0m \u001b[32m30.6/30.6 MB\u001b[0m \u001b[31m37.7 MB/s\u001b[0m eta \u001b[36m0:00:00\u001b[0m\n",
            "\u001b[?25h"
          ]
        }
      ]
    },
    {
      "cell_type": "markdown",
      "source": [
        "# Import OS & JSON Modules"
      ],
      "metadata": {
        "id": "2iILdU7U4Hya"
      }
    },
    {
      "cell_type": "code",
      "source": [
        "import os\n",
        "import json\n",
        "from google.colab import userdata\n",
        "\n",
        "os.environ['GRADIENT_ACCESS_TOKEN'] = '49SxShZ6rRvQu8YVAeSjoj3a91rqBWZm'\n",
        "os.environ['GRADIENT_WORKSPACE_ID'] =  '6114a445-d716-4ff4-ac7b-a7ab9ad42995_workspace'"
      ],
      "metadata": {
        "id": "U02ytLrPA2rG"
      },
      "execution_count": null,
      "outputs": []
    },
    {
      "cell_type": "markdown",
      "source": [
        "# Import Cassandra & llama Index"
      ],
      "metadata": {
        "id": "u3IS4xyg4N63"
      }
    },
    {
      "cell_type": "code",
      "source": [
        "from cassandra.auth import PlainTextAuthProvider\n",
        "from cassandra.cluster import Cluster\n",
        "from llama_index.core import ServiceContext\n",
        "from llama_index.core import set_global_service_context\n",
        "from llama_index.core import VectorStoreIndex, SimpleDirectoryReader, StorageContext\n",
        "from llama_index.embeddings.gradient import GradientEmbedding\n",
        "from llama_index.llms.gradient import GradientBaseModelLLM, GradientModelAdapterLLM\n",
        "from llama_index.vector_stores.cassandra import CassandraVectorStore"
      ],
      "metadata": {
        "id": "GhZ1NMr2z3vF"
      },
      "execution_count": null,
      "outputs": []
    },
    {
      "cell_type": "code",
      "source": [
        "import cassandra\n",
        "print (cassandra.__version__)"
      ],
      "metadata": {
        "id": "Q28fIUq91zED",
        "colab": {
          "base_uri": "https://localhost:8080/"
        },
        "outputId": "e87dc786-f860-44fb-f7f3-c904a5105325"
      },
      "execution_count": null,
      "outputs": [
        {
          "output_type": "stream",
          "name": "stdout",
          "text": [
            "3.29.0\n"
          ]
        }
      ]
    },
    {
      "cell_type": "markdown",
      "source": [
        "# Connect to the VectorDB"
      ],
      "metadata": {
        "id": "cuio1UWlEMkQ"
      }
    },
    {
      "cell_type": "code",
      "source": [
        "!gdown 1KXYTpt7_pTPX4fXh4IQZqbsmOKSTnZOi"
      ],
      "metadata": {
        "colab": {
          "base_uri": "https://localhost:8080/"
        },
        "id": "jxgTUvN8di5S",
        "outputId": "26a5d5ca-8811-4bd2-a619-97f2db2c0bf5"
      },
      "execution_count": null,
      "outputs": [
        {
          "output_type": "stream",
          "name": "stdout",
          "text": [
            "Downloading...\n",
            "From: https://drive.google.com/uc?id=1KXYTpt7_pTPX4fXh4IQZqbsmOKSTnZOi\n",
            "To: /content/secure-connect-pdf-summarization.zip\n",
            "\r  0% 0.00/12.3k [00:00<?, ?B/s]\r100% 12.3k/12.3k [00:00<00:00, 33.8MB/s]\n"
          ]
        }
      ]
    },
    {
      "cell_type": "code",
      "source": [
        "!gdown 1_3PebirQmKMQITtEYQKa-O6CeuCOhXwx"
      ],
      "metadata": {
        "colab": {
          "base_uri": "https://localhost:8080/"
        },
        "id": "o9BMI9PEdv_n",
        "outputId": "aa5ac95e-4c89-4e90-cf78-92eec3f1470f"
      },
      "execution_count": null,
      "outputs": [
        {
          "output_type": "stream",
          "name": "stdout",
          "text": [
            "Downloading...\n",
            "From: https://drive.google.com/uc?id=1_3PebirQmKMQITtEYQKa-O6CeuCOhXwx\n",
            "To: /content/pdf-summarization-token.json.txt\n",
            "\r  0% 0.00/496 [00:00<?, ?B/s]\r100% 496/496 [00:00<00:00, 2.45MB/s]\n"
          ]
        }
      ]
    },
    {
      "cell_type": "code",
      "source": [
        "# This secure connect bundle is autogenerated when you donwload your SCB,\n",
        "# if yours is different update the file name below\n",
        "cloud_config= {\n",
        "  'secure_connect_bundle': 'secure-connect-pdf-summarization.zip'\n",
        "}\n",
        "\n",
        "# if yours is different update the file name below\n",
        "with open(\"pdf-summarization-token.json\") as f:\n",
        "    secrets = json.load(f)\n",
        "CLIENT_ID = secrets[\"clientId\"]\n",
        "CLIENT_SECRET = secrets[\"secret\"]\n",
        "auth_provider = PlainTextAuthProvider(CLIENT_ID, CLIENT_SECRET)\n",
        "cluster = Cluster(cloud=cloud_config, auth_provider=auth_provider)\n",
        "session = cluster.connect()\n",
        "\n",
        "row = session.execute(\"select release_version from system.local\").one()\n",
        "# This token json file is autogenerated when you donwload your token,\n",
        "if row:\n",
        "  print(row[0])\n",
        "else:\n",
        "\n",
        "  print(\"An error occurred.\")"
      ],
      "metadata": {
        "id": "jYn5am9c1zGS",
        "colab": {
          "base_uri": "https://localhost:8080/"
        },
        "outputId": "2ec39bb0-23a0-465d-d4ec-223e3721c943"
      },
      "execution_count": null,
      "outputs": [
        {
          "output_type": "stream",
          "name": "stderr",
          "text": [
            "WARNING:cassandra.cluster:Downgrading core protocol version from 66 to 65 for 7f83923a-fcee-4bc3-bda5-920b9dde9b08-us-east-1.db.astra.datastax.com:29042:505d2fbb-5c66-4a77-a32b-cf3056bded3e. To avoid this, it is best practice to explicitly set Cluster(protocol_version) to the version supported by your cluster. http://datastax.github.io/python-driver/api/cassandra/cluster.html#cassandra.cluster.Cluster.protocol_version\n",
            "WARNING:cassandra.cluster:Downgrading core protocol version from 65 to 5 for 7f83923a-fcee-4bc3-bda5-920b9dde9b08-us-east-1.db.astra.datastax.com:29042:505d2fbb-5c66-4a77-a32b-cf3056bded3e. To avoid this, it is best practice to explicitly set Cluster(protocol_version) to the version supported by your cluster. http://datastax.github.io/python-driver/api/cassandra/cluster.html#cassandra.cluster.Cluster.protocol_version\n",
            "ERROR:cassandra.connection:Closing connection <AsyncoreConnection(138630109961696) 7f83923a-fcee-4bc3-bda5-920b9dde9b08-us-east-1.db.astra.datastax.com:29042:505d2fbb-5c66-4a77-a32b-cf3056bded3e> due to protocol error: Error from server: code=000a [Protocol error] message=\"Beta version of the protocol used (5/v5-beta), but USE_BETA flag is unset\"\n",
            "WARNING:cassandra.cluster:Downgrading core protocol version from 5 to 4 for 7f83923a-fcee-4bc3-bda5-920b9dde9b08-us-east-1.db.astra.datastax.com:29042:505d2fbb-5c66-4a77-a32b-cf3056bded3e. To avoid this, it is best practice to explicitly set Cluster(protocol_version) to the version supported by your cluster. http://datastax.github.io/python-driver/api/cassandra/cluster.html#cassandra.cluster.Cluster.protocol_version\n"
          ]
        },
        {
          "output_type": "stream",
          "name": "stdout",
          "text": [
            "4.0.11-be972d70632f\n"
          ]
        }
      ]
    },
    {
      "cell_type": "markdown",
      "source": [
        "# Define the Gradient's Model Adapter for LLAMA-2"
      ],
      "metadata": {
        "id": "1I8T-kjh4VoX"
      }
    },
    {
      "cell_type": "code",
      "source": [
        "from gradientai import Gradient"
      ],
      "metadata": {
        "id": "WfZxnqz8XXiI"
      },
      "execution_count": null,
      "outputs": []
    },
    {
      "cell_type": "code",
      "source": [
        "#llm = GradientBaseModelLLM(\n",
        "#    base_model_slug=\"llama2-7b-chat\",\n",
        "#    max_tokens=400,\n",
        "#)\n",
        "\n",
        "gradient = Gradient()\n",
        "base_model = gradient.get_base_model(base_model_slug = \"llama2-7b-chat\")"
      ],
      "metadata": {
        "id": "EksBmgQt36_v"
      },
      "execution_count": null,
      "outputs": []
    },
    {
      "cell_type": "code",
      "source": [
        "new_model_adapter = base_model.create_model_adapter(name = 'FineTunedLlama2')"
      ],
      "metadata": {
        "id": "5vNgUEJnUGSw"
      },
      "execution_count": null,
      "outputs": []
    },
    {
      "cell_type": "code",
      "source": [
        "print(f\"Model Adapter Id {new_model_adapter.id}\")"
      ],
      "metadata": {
        "colab": {
          "base_uri": "https://localhost:8080/"
        },
        "id": "oOImSMw5nIBZ",
        "outputId": "04c31c2d-5fe8-407f-9d34-f457468ff979"
      },
      "execution_count": null,
      "outputs": [
        {
          "output_type": "stream",
          "name": "stdout",
          "text": [
            "Model Adapter Id 30fa2b31-c48e-4744-9328-7e722a7bf9de_model_adapter\n"
          ]
        }
      ]
    },
    {
      "cell_type": "code",
      "source": [
        "sample_query = \"### Instruction: Can you please tell me what a RFP Document is? \\n\\n Response:\"\n",
        "print(f'Asking: {sample_query}')\n",
        "completion = new_model_adapter.complete(query = sample_query, max_generated_token_count = 400).generated_output\n",
        "print(f\"Generated before FineTuning: {completion}\")"
      ],
      "metadata": {
        "colab": {
          "base_uri": "https://localhost:8080/"
        },
        "id": "eSS8dQm7X8KB",
        "outputId": "98f12c05-2b23-42f8-9b96-413f132ff4a1"
      },
      "execution_count": null,
      "outputs": [
        {
          "output_type": "stream",
          "name": "stdout",
          "text": [
            "Asking: ### Instruction: Can you please tell me what a RFP Document is? \n",
            "\n",
            " Response:\n",
            "Generated before FineTuning:  Sure, I'd be happy to explain what a Request for Proposal (RFP) document is!\n",
            "\n",
            "A Request for Proposal (RFP) is a document that organizations\n"
          ]
        }
      ]
    },
    {
      "cell_type": "code",
      "source": [
        "variations = [\n",
        "    {\"inputs\": \"### Instruction: Define an RFP Document \\n\\n Response: An RFP Document, short for Request for Proposal document, is a formal solicitation that organizations use to invite bids from potential vendors or service providers for a specific project or service. The RFP outlines the project requirements, objectives, and scope, providing detailed information to guide potential respondents in preparing their proposals.\"},\n",
        "    {\"inputs\": \"### Instruction: Explain the concept of an RFP Document \\n\\n Response: An RFP Document, also known as a Request for Proposal document, is a formal invitation from organizations to prospective vendors or service providers to submit proposals for a particular project or service. The RFP specifies the project's requirements, goals, and scope, enabling potential bidders to understand the project's needs and submit relevant proposals.\"},\n",
        "    {\"inputs\": \"### Instruction: What exactly is meant by an RFP Document? \\n\\n Response: An RFP Document, which stands for Request for Proposal document, is a formal solicitation used by organizations to request proposals from potential vendors or service providers for a specific project or service. The RFP outlines the project's objectives, requirements, and scope, providing necessary details to facilitate the submission and evaluation of proposals.\"},\n",
        "    {\"inputs\": \"### Instruction: Clarify the purpose of an RFP Document \\n\\n Response: An RFP Document, or Request for Proposal document, serves as a formal request from organizations to potential vendors or service providers for proposals related to a specific project or service. The RFP outlines the project's objectives, requirements, and scope, guiding vendors in preparing and submitting their proposals.\"},\n",
        "    {\"inputs\": \"### Instruction: Please elaborate on the significance of an RFP Document \\n\\n Response: An RFP Document, commonly known as a Request for Proposal document, holds significant importance in procurement processes, as it serves as a formal invitation from organizations to potential vendors or service providers to submit proposals for a specific project or service. The RFP outlines the project's objectives, requirements, and scope, facilitating the selection of the most suitable vendor or service provider for the project.\"},\n",
        "    {\"inputs\": \"### Instruction: Could you shed some light on the function of an RFP Document? \\n\\n Response: An RFP Document, which stands for Request for Proposal document, plays a crucial role in procurement processes by serving as a formal invitation from organizations to potential vendors or service providers to submit proposals for a specific project or service. The RFP outlines the project's objectives, requirements, and scope, guiding vendors in preparing and submitting their proposals for evaluation and selection.\"},\n",
        "    {\"inputs\": \"### Instruction: Kindly provide an overview of an RFP Document \\n\\n Response: An RFP Document, also referred to as a Request for Proposal document, provides a comprehensive overview of a project or service for which organizations seek proposals from potential vendors or service providers. The RFP outlines the project's objectives, requirements, and scope, facilitating the submission and evaluation of proposals by interested parties.\"},\n",
        "    {\"inputs\": \"### Instruction: Shed some light on the purpose of an RFP Document \\n\\n Response: An RFP Document, short for Request for Proposal document, serves as a formal request from organizations to potential vendors or service providers for proposals related to a specific project or service. The RFP outlines the project's objectives, requirements, and scope, providing necessary details to facilitate the submission and evaluation of proposals.\"},\n",
        "    {\"inputs\": \"### Instruction: What role does an RFP Document play in procurement processes? \\n\\n Response: An RFP Document, commonly known as a Request for Proposal document, plays a pivotal role in procurement processes by serving as a formal invitation from organizations to potential vendors or service providers to submit proposals for a specific project or service. The RFP outlines the project's objectives, requirements, and scope, guiding vendors in preparing and submitting their proposals for evaluation and selection.\"},\n",
        "    {\"inputs\": \"### Instruction: Can you provide a brief explanation of an RFP Document? \\n\\n Response: An RFP Document, which stands for Request for Proposal document, is a formal solicitation used by organizations to request proposals from potential vendors or service providers for a specific project or service. The RFP outlines the project's objectives, requirements, and scope, providing necessary details to facilitate the submission and evaluation of proposals.\"},\n",
        "]"
      ],
      "metadata": {
        "id": "vHzfWNEqe0Z-"
      },
      "execution_count": null,
      "outputs": []
    },
    {
      "cell_type": "code",
      "source": [
        "num_epochs = 5\n",
        "count = 0\n",
        "\n",
        "while count < num_epochs:\n",
        "  print(f\"Fine-tuning the model, Epoch iteration => {count + 1}\")\n",
        "  new_model_adapter.fine_tune(samples = variations)\n",
        "  count += 1"
      ],
      "metadata": {
        "colab": {
          "base_uri": "https://localhost:8080/"
        },
        "id": "oKdrll06fA42",
        "outputId": "111b788e-ce92-463b-9b90-41d0407aa104"
      },
      "execution_count": null,
      "outputs": [
        {
          "output_type": "stream",
          "name": "stdout",
          "text": [
            "Fine-tuning the model, Epoch iteration => 1\n",
            "Fine-tuning the model, Epoch iteration => 2\n",
            "Fine-tuning the model, Epoch iteration => 3\n",
            "Fine-tuning the model, Epoch iteration => 4\n",
            "Fine-tuning the model, Epoch iteration => 5\n"
          ]
        }
      ]
    },
    {
      "cell_type": "code",
      "source": [
        "# After fine-tuning\n",
        "completion = new_model_adapter.complete(query=sample_query, max_generated_token_count=100).generated_output\n",
        "print(f\"After Fine-Tuning: {completion}\")"
      ],
      "metadata": {
        "colab": {
          "base_uri": "https://localhost:8080/"
        },
        "id": "tHUzNLQIfNNJ",
        "outputId": "aae5a02e-6c9d-46af-c3ae-47b99d797fd9"
      },
      "execution_count": null,
      "outputs": [
        {
          "output_type": "stream",
          "name": "stdout",
          "text": [
            "After Fine-Tuning:  An RFP Document, which stands for Request for Proposal document, is a formal invitation from organizations to potential vendors or service providers to submit proposals for a specific project or service. The RFP outlines the project's requirements, objectives, and scope, guiding vendors in preparing and submitting their proposals for evaluation and selection. The RFP serves as a formal invitation to tender, facilitating the procurement process by providing necessary details\n"
          ]
        }
      ]
    },
    {
      "cell_type": "markdown",
      "source": [
        "# Configure Gradient embeddings"
      ],
      "metadata": {
        "id": "CPTqOwXZ4aLy"
      }
    },
    {
      "cell_type": "code",
      "source": [
        "embed_model = GradientEmbedding(\n",
        "    gradient_access_token = os.environ[\"GRADIENT_ACCESS_TOKEN\"],\n",
        "    gradient_workspace_id = os.environ[\"GRADIENT_WORKSPACE_ID\"],\n",
        "    gradient_model_slug=\"bge-large\",\n",
        ")"
      ],
      "metadata": {
        "id": "38_uBhIy2XtA"
      },
      "execution_count": null,
      "outputs": []
    },
    {
      "cell_type": "code",
      "source": [
        "llm = GradientModelAdapterLLM(\n",
        "    model_adapter_id = \"30fa2b31-c48e-4744-9328-7e722a7bf9de_model_adapter\",\n",
        "    max_tokens = 500)"
      ],
      "metadata": {
        "id": "Si2bfd1LkgE8"
      },
      "execution_count": null,
      "outputs": []
    },
    {
      "cell_type": "code",
      "source": [
        "service_context = ServiceContext.from_defaults(\n",
        "    llm = llm,\n",
        "    embed_model = embed_model,\n",
        "    chunk_size=256,\n",
        ")\n",
        "\n",
        "set_global_service_context(service_context)"
      ],
      "metadata": {
        "id": "mf7hu0cE2VKy",
        "colab": {
          "base_uri": "https://localhost:8080/"
        },
        "outputId": "ffca2f01-0fe0-478f-9769-84b7e685389e"
      },
      "execution_count": null,
      "outputs": [
        {
          "output_type": "stream",
          "name": "stderr",
          "text": [
            "<ipython-input-39-944266470549>:1: DeprecationWarning: Call to deprecated class method from_defaults. (ServiceContext is deprecated, please use `llama_index.settings.Settings` instead.) -- Deprecated since version 0.10.0.\n",
            "  service_context = ServiceContext.from_defaults(\n"
          ]
        }
      ]
    },
    {
      "cell_type": "markdown",
      "source": [
        "# Load the PDFs"
      ],
      "metadata": {
        "id": "T3AEoS-t4t6f"
      }
    },
    {
      "cell_type": "code",
      "source": [
        "!gdown 1hkk7-Xg8AOqRZbb4v4nfkcq6OtqRYsAr"
      ],
      "metadata": {
        "colab": {
          "base_uri": "https://localhost:8080/"
        },
        "id": "zFy8ou43DQG_",
        "outputId": "ff01e5d1-ce3a-4bcb-95e6-57cb8bc71962"
      },
      "execution_count": null,
      "outputs": [
        {
          "output_type": "stream",
          "name": "stdout",
          "text": [
            "Downloading...\n",
            "From: https://drive.google.com/uc?id=1hkk7-Xg8AOqRZbb4v4nfkcq6OtqRYsAr\n",
            "To: /content/RFP 972-12-11-2021 Software.pdf\n",
            "\r  0% 0.00/344k [00:00<?, ?B/s]\r100% 344k/344k [00:00<00:00, 28.8MB/s]\n"
          ]
        }
      ]
    },
    {
      "cell_type": "code",
      "source": [
        "!mkdir /content/Documents/"
      ],
      "metadata": {
        "id": "IaXfUYmDiYr4"
      },
      "execution_count": null,
      "outputs": []
    },
    {
      "cell_type": "code",
      "source": [
        "!mv '/content/RFP 972-12-11-2021 Software.pdf' '/content/Documents/RFP 972-12-11-2021 Software.pdf'"
      ],
      "metadata": {
        "id": "kToGqhnLDknG"
      },
      "execution_count": null,
      "outputs": []
    },
    {
      "cell_type": "code",
      "source": [
        "documents = SimpleDirectoryReader(\"/content/Documents\").load_data()\n",
        "print(f\"Loaded {len(documents)} document(s).\")"
      ],
      "metadata": {
        "id": "KFXZvFaQ25kE",
        "colab": {
          "base_uri": "https://localhost:8080/"
        },
        "outputId": "981f6a86-8a2e-49b8-9e58-97ce1eda91e2"
      },
      "execution_count": null,
      "outputs": [
        {
          "output_type": "stream",
          "name": "stdout",
          "text": [
            "Loaded 20 document(s).\n"
          ]
        }
      ]
    },
    {
      "cell_type": "markdown",
      "source": [
        "# Setup and Query Index"
      ],
      "metadata": {
        "id": "Ns8r13uw4vko"
      }
    },
    {
      "cell_type": "code",
      "source": [
        "index = VectorStoreIndex.from_documents(documents,\n",
        "                                        service_context=service_context)\n",
        "query_engine = index.as_query_engine()"
      ],
      "metadata": {
        "id": "YT9wD9sQ25nv"
      },
      "execution_count": null,
      "outputs": []
    },
    {
      "cell_type": "code",
      "source": [
        "response = query_engine.query(\"What is the deadline of submission?\")\n",
        "print(response)"
      ],
      "metadata": {
        "id": "ZVYy24TR2VSM",
        "colab": {
          "base_uri": "https://localhost:8080/"
        },
        "outputId": "15d80630-d332-48aa-b097-fe6d2d0fef33"
      },
      "execution_count": null,
      "outputs": [
        {
          "output_type": "stream",
          "name": "stdout",
          "text": [
            " Based on the additional context provided, the deadline for submission is still November 05, 2021, during the CSIR's business hours (08h00 - 16h30). However, it is important to note that any tender submitted after the stipulated deadline and place will be regarded as a late tender and will not be considered. Therefore, it is crucial to ensure that the tender is submitted on time and at the correct location to avoid any issues.\n",
            "\n",
            "The original answer remains unchanged:\n",
            "The deadline for submission is November 05, 2021.\n"
          ]
        }
      ]
    },
    {
      "cell_type": "code",
      "source": [
        "response_2 = query_engine.query(\"What are the in-scopes of Hosted Server?\")\n",
        "print(response_2)"
      ],
      "metadata": {
        "id": "fxozFZRFjpwl",
        "colab": {
          "base_uri": "https://localhost:8080/"
        },
        "outputId": "31419869-c2c4-4a9d-f5da-b93e184aec10"
      },
      "execution_count": null,
      "outputs": [
        {
          "output_type": "stream",
          "name": "stdout",
          "text": [
            " Based on the new context provided, the in-scopes of Hosted Server can be further refined as follows:\n",
            "\n",
            "* Transfer the IB Portal and CPMS from the current hosting platform to the new hosting platform.\n",
            "* Ongoing hosting and upgrade of the platform systems, including security kernel patches, server software, and email packages.\n",
            "* Provide unlimited email packages and monitor mailbox sizes.\n",
            "* Ensure SSL certificates and general server security.\n",
            "* Offer ongoing bug fixes and small changes, limited by the service level agreement and associated budget.\n",
            "* Maintain ownership of the three domains currently active for the Innovation Bridge Portal and purchase one domain for the CPMS.\n",
            "\n",
            "Therefore, the Hosted Server is in-scope for transferring the existing IB Portal and CPMS to a new hosting platform, as well as providing ongoing hosting and upgrading of the platform systems, email services, and domain management.\n"
          ]
        }
      ]
    },
    {
      "cell_type": "code",
      "source": [
        "response_3 = query_engine.query(\"What is the Average Score Rating of Responsive Design and Development for Mobile Phones, Tablets and PC?\")\n",
        "print(response_3)"
      ],
      "metadata": {
        "colab": {
          "base_uri": "https://localhost:8080/"
        },
        "id": "2RYoel69sgvY",
        "outputId": "dc3618c3-939b-4020-93b7-e746b12fc853"
      },
      "execution_count": null,
      "outputs": [
        {
          "output_type": "stream",
          "name": "stdout",
          "text": [
            " Based on the updated information provided in the RFP document, the Average Score Rating of Responsive Design and Development for Mobile Phones, Tablets, and PC is refined to 6.\n",
            "\n",
            "The refined rating is based on the following criteria and their corresponding scores:\n",
            "\n",
            "* No response = 0\n",
            "* Poor = 1\n",
            "* Average = 6\n",
            "* Good = 8\n",
            "* Very good = 10\n",
            "* Excellent = 10\n",
            "\n",
            "Therefore, the average score rating for Responsive Design and Development is 6, which falls under the \"Good\" category.\n",
            "\n",
            "The refined answer takes into account the additional information provided in the RFP document regarding the experience required for the development team. With at least 3-4 years of experience in multi-device, multi-browser development and at least 2 examples of relevant systems designed, the team's score has been upgraded to \"Good\".\n"
          ]
        }
      ]
    },
    {
      "cell_type": "markdown",
      "source": [
        "For Streamlit application, please refer the following blog: https://www.analyticsvidhya.com/blog/2024/01/automated-fine-tuning-of-llama2-models-on-gradient-ai-cloud/"
      ],
      "metadata": {
        "id": "-e0yulI2LPlb"
      }
    },
    {
      "cell_type": "code",
      "source": [],
      "metadata": {
        "id": "H4HsvZRvtOGJ"
      },
      "execution_count": null,
      "outputs": []
    }
  ]
}